{
 "cells": [
  {
   "attachments": {},
   "cell_type": "markdown",
   "metadata": {},
   "source": [
    "# Modules\n",
    "\n",
    "Python allows you to save your functions and classes in another file and then import them into the program you are working on.\n",
    "\n",
    "A python module most of the time is a simple python file with code inside, e.g. `my_module.py`. You could execute a module with `python my_module.py`.\n",
    "\n",
    "> Note: module naming convention is **snake_case**\n",
    "\n",
    "The more common use case is to `import` a module in your code where you need the functionality provided by that module.\n",
    "\n",
    "There are a number of ways you can import objects you are interested in.\n",
    "\n",
    "## import *module_name*"
   ]
  },
  {
   "cell_type": "code",
   "execution_count": null,
   "metadata": {},
   "outputs": [],
   "source": [
    "import my_module\n",
    "\n",
    "value = my_module.some_function()\n",
    "print(value)"
   ]
  },
  {
   "attachments": {},
   "cell_type": "markdown",
   "metadata": {},
   "source": [
    "> Note: Using this type of import our `some_function` is inside the namespace of `my_module`.\n",
    "\n",
    "## from *module_name* import *\n",
    "\n",
    "Can be used to `import` into the **current namespace**\n",
    "\n",
    "> Note: **it is bad practice!**"
   ]
  },
  {
   "cell_type": "code",
   "execution_count": null,
   "metadata": {},
   "outputs": [],
   "source": [
    "from my_module import *\n",
    "\n",
    "value = some_function()\n",
    "print(value)"
   ]
  },
  {
   "attachments": {},
   "cell_type": "markdown",
   "metadata": {},
   "source": [
    "If you want to limit what objects are imported using the `import *` approach - you can include `__all__` attribute inside your module.\n",
    "\n",
    "```python\n",
    "__all__ = ['some_function']\n",
    "\n",
    "def some_function() -> str:\n",
    "    return \"Hello module!\"\n",
    "\n",
    "def other_function() -> str:\n",
    "    return \"Not imported with *\"\n",
    "```\n",
    "\n",
    "`other_function` will not be accessible"
   ]
  },
  {
   "cell_type": "code",
   "execution_count": null,
   "metadata": {},
   "outputs": [],
   "source": [
    "try:\n",
    "    value = other_function()\n",
    "except NameError as error:\n",
    "    print(error)"
   ]
  },
  {
   "attachments": {},
   "cell_type": "markdown",
   "metadata": {},
   "source": [
    "## from *module_name* import *object*\n",
    "\n",
    "Allows to `import` only the functionality you actually need.\n",
    "\n",
    "Using this approach you can also import `other_function`"
   ]
  },
  {
   "cell_type": "code",
   "execution_count": null,
   "metadata": {},
   "outputs": [],
   "source": [
    "from my_module import some_function, other_function\n",
    "\n",
    "value = some_function()\n",
    "print(value)\n",
    "value = other_function()\n",
    "print(value)"
   ]
  },
  {
   "attachments": {},
   "cell_type": "markdown",
   "metadata": {},
   "source": [
    "Importing into the current namespace does not prevent from name clashes.\n",
    "\n",
    "It is usually a better idea to keep the namespace of the module.\n",
    "\n",
    "## import *module_name* as *local_name*\n",
    "\n",
    "You may have seen this many times with some popular Python packages (numpy, pands, etc.) to have a shorter name."
   ]
  },
  {
   "cell_type": "code",
   "execution_count": null,
   "metadata": {},
   "outputs": [],
   "source": [
    "import my_module as mm\n",
    "value = mm.some_function()"
   ]
  },
  {
   "attachments": {},
   "cell_type": "markdown",
   "metadata": {},
   "source": [
    "> Note: This saves you from name clashes if you have a local variable, e.g., `animal`, and you need to import a module that is also named `animal`"
   ]
  },
  {
   "attachments": {},
   "cell_type": "markdown",
   "metadata": {},
   "source": [
    "# Module resolution\n",
    "\n",
    "Python searches some **system dependent** locations for modules"
   ]
  },
  {
   "cell_type": "code",
   "execution_count": null,
   "metadata": {},
   "outputs": [],
   "source": [
    "%%bash\n",
    "/usr/bin/python3 -c 'import sys; print(sys.path)'"
   ]
  },
  {
   "attachments": {},
   "cell_type": "markdown",
   "metadata": {},
   "source": [
    "* `''` - current folder (might be others variations depending on system)\n",
    "* `/Users/user/Library/Python/3.9/lib/python/site-packages` - version dependent user folder for packages on MacOs. Everything you install with `python -m pip install --user` goes there. To find out the user base of your python installation you can run `python -m site --user-base`.\n",
    "\n",
    "If you use virtualenv - result is different. It make Python look only inside viartualenv packages."
   ]
  },
  {
   "cell_type": "code",
   "execution_count": null,
   "metadata": {},
   "outputs": [],
   "source": [
    "import sys\n",
    "print(sys.path)"
   ]
  },
  {
   "attachments": {},
   "cell_type": "markdown",
   "metadata": {},
   "source": [
    "\n",
    "## Modifying search path\n",
    "\n",
    "### Outside of Python\n",
    "\n",
    "Use the `PYTHONPATH` environment variable to extend the search path to your own locations. `PYTHONPATH` behaves the same as `PATH` variable on your OS.\n",
    "\n",
    "If a module can not be found, you will get a `ModuleNotFoundError`."
   ]
  },
  {
   "cell_type": "code",
   "execution_count": null,
   "metadata": {},
   "outputs": [],
   "source": [
    "%%bash\n",
    "export PYTHONPATH=\"$(pwd)/example_package:${PYTHONPATH}\"\n",
    "/usr/bin/python3 -c 'import sys; print(sys.path)'"
   ]
  },
  {
   "attachments": {},
   "cell_type": "markdown",
   "metadata": {},
   "source": [
    "### Inside Python code\n",
    "\n",
    "Useful for development purposes (no need to change external environment variables) and debugging in Jupyter."
   ]
  },
  {
   "cell_type": "code",
   "execution_count": null,
   "metadata": {},
   "outputs": [],
   "source": [
    "# Live-reload of imported modules\n",
    "%load_ext autoreload\n",
    "%autoreload 2\n",
    "\n",
    "# Ensure that example_package is importable\n",
    "import os\n",
    "import sys\n",
    "REPO_DIRNAME = os.path.abspath('.')\n",
    "if REPO_DIRNAME not in sys.path:\n",
    "    sys.path.append(REPO_DIRNAME)\n",
    "\n",
    "# You can copy and edit this code to point to where your other Python files are.\n",
    "# I use current dir because i'm lazy\n",
    "\n",
    "from example_package.example import SampleClass"
   ]
  },
  {
   "attachments": {},
   "cell_type": "markdown",
   "metadata": {},
   "source": [
    "# Module execution\n",
    "\n",
    "When you import a module, it is parsed and executed by interpreter."
   ]
  },
  {
   "cell_type": "code",
   "execution_count": null,
   "metadata": {},
   "outputs": [],
   "source": [
    "import hello"
   ]
  },
  {
   "attachments": {},
   "cell_type": "markdown",
   "metadata": {},
   "source": [
    "If you have some code that you want to run when you launch a module using the `python my_module.py` but avoid executing it when you import the module you can check if the top level environment's `__name__` attribute of the module is called `'__main__'` (meaning it is executed directly by interpreter) before executing any code:\n",
    "\n",
    "```python\n",
    "def my_function():\n",
    "    pass\n",
    "\n",
    "def main():\n",
    "    my_function()\n",
    "\n",
    "if __name__ == '__main__':\n",
    "    main()\n",
    "```\n",
    "\n",
    "We can check the difference:"
   ]
  },
  {
   "cell_type": "code",
   "execution_count": null,
   "metadata": {},
   "outputs": [],
   "source": [
    "print(f\"This is the '__name__' of currently executing environment: {__name__}\")\n",
    "import hello as hi # we still execute this in between with current implementation\n",
    "print(f\"This is the '__name__' of imported module: {hi.__name__}\")"
   ]
  },
  {
   "attachments": {},
   "cell_type": "markdown",
   "metadata": {},
   "source": [
    "# Python packages\n",
    "\n",
    "Modules are a great way to organize your code into logical units.\n",
    "\n",
    "This one-level organization is usually not deep enough for larger projects.\n",
    "\n",
    "Packages allow you to organize your project hierarchically.\n",
    "\n",
    "Example package hierarchy:"
   ]
  },
  {
   "cell_type": "code",
   "execution_count": null,
   "metadata": {},
   "outputs": [],
   "source": [
    "!tree cool_package -I '__pycache__'"
   ]
  },
  {
   "attachments": {},
   "cell_type": "markdown",
   "metadata": {},
   "source": [
    "## `__init__.py` file\n",
    "\n",
    "The `__init__.py` is used for package-level initialization either when your package is imported or a module within the package is imported.\n",
    "\n",
    "You write normal python code in that file which is then executed when the package is imported (once).\n",
    "\n",
    "You can use the `__all__` list inside `__init__.py` to define what should be imported when someone does `from cool_package import *`.\n",
    "\n",
    "> Note: Often the file is empty. In Python 3.3+ you do not need to have the file if it is empty.\n",
    "\n",
    "## import packages\n",
    "\n",
    "You import a package or a nested sub-package just like a module."
   ]
  },
  {
   "cell_type": "code",
   "execution_count": null,
   "metadata": {},
   "outputs": [],
   "source": [
    "import cool_package.sub_package_1.module_2\n",
    "\n",
    "cool_package.sub_package_1.module_2.fun2()"
   ]
  },
  {
   "attachments": {},
   "cell_type": "markdown",
   "metadata": {},
   "source": [
    "To make your life easier you can use `__init__.py`.\n",
    "\n",
    "For example we can do this in our main package (see subpackes for their details).\n",
    "\n",
    "```python\n",
    "from .module_1 import fun1\n",
    "from .sub_package_1 import fun2\n",
    "from .sub_package_2 import fun3\n",
    "\n",
    "__all__ = ['fun1', 'fun2', 'fun3']\n",
    "```\n",
    "\n",
    "Now we can do better :)"
   ]
  },
  {
   "cell_type": "code",
   "execution_count": null,
   "metadata": {},
   "outputs": [],
   "source": [
    "import cool_package as cp\n",
    "\n",
    "cp.fun1()\n",
    "cp.fun2()\n",
    "cp.fun3()"
   ]
  },
  {
   "cell_type": "code",
   "execution_count": null,
   "metadata": {},
   "outputs": [],
   "source": [
    "dir(cp)"
   ]
  },
  {
   "attachments": {},
   "cell_type": "markdown",
   "metadata": {},
   "source": [
    "## Installing and creating redistributable packages\n",
    "\n",
    "Playing with `pip` and packaging will be left as an excercise :)\n",
    "\n",
    "Guide on [Installing Packages](https://packaging.python.org/en/latest/tutorials/installing-packages/)\n",
    "\n",
    "Guide on [Packaging Python Projects](https://packaging.python.org/en/latest/tutorials/packaging-projects/)"
   ]
  },
  {
   "attachments": {},
   "cell_type": "markdown",
   "metadata": {},
   "source": [
    "### A side note on creating the list of required packages for your application\n",
    "\n",
    "Usualy when you do the development process you do ad-hoc package installation using pip. When you share your project to coleagues you need to share the list of used packages. You can create the `requirements.txt` manualy, but it may take so time.\n",
    "\n",
    "Here's a little lifehack - you can use `pip freeze` to get all the packages from current environment (remember, we're using virtualenv per project). In Linux you can redirect this output to a file:\n",
    "\n",
    "```bash\n",
    "pip freeze > ./requirements.txt\n",
    "```"
   ]
  },
  {
   "attachments": {},
   "cell_type": "markdown",
   "metadata": {},
   "source": [
    "# Unit testing\n",
    "\n",
    "Python has 3 *main* frameworks for unit testing:\n",
    "\n",
    "* unittest ([https://docs.python.org/3/library/unittest.html](https://docs.python.org/3/library/unittest.html)): unit testing framework that is part of the standard library.\n",
    "* doctest ([https://docs.python.org/3/library/doctest.html](https://docs.python.org/3/library/doctest.html)): a test module that allows to write simple unit tests as part of the documentation.\n",
    "* pytest ([https://docs.pytest.org/en/7.2.x/](https://docs.pytest.org/en/7.2.x/)): alternative 3rd party testing framework. It is compatible to run tests written with the `unittest` package."
   ]
  },
  {
   "attachments": {},
   "cell_type": "markdown",
   "metadata": {},
   "source": [
    "## unittest\n",
    "\n",
    "In `unittest` you create classes that inherit from `unittest.TestCase`. You can use these classes to organize your tests.\n",
    "\n",
    "Each class defines methods for the tests.\n",
    "* They must again start with `test_`.\n",
    "\n",
    "You test your code by calling different `self.assert*` methods (inherited, [see documentation for the entire list](https://docs.python.org/3/library/unittest.html#assert-methods)).\n",
    "\n",
    "It is also possible to use built in mock library [https://docs.python.org/3/library/unittest.mock.html](https://docs.python.org/3/library/unittest.mock.html)\n",
    "Example simple unit test:\n",
    "\n",
    "```python\n",
    "import unittest # python standard library. No need to install\n",
    "\n",
    "from testing.package.example import *\n",
    "\n",
    "class TestExample(unittest.TestCase):\n",
    "    def test_addition(self):\n",
    "        result = testable_function(2, 2, sum)\n",
    "        self.assertEqual(result, 4)\n",
    "    \n",
    "    # ... other functions\n",
    "\n",
    "if __name__ == '__main__':\n",
    "    unittest.main()\n",
    "```\n",
    "\n",
    "To run the tests you need to either execute the test module itself or use unittest module:\n",
    "\n",
    "```bash\n",
    "python -m unittest path/to/your_tests.py\n",
    "```\n",
    "\n",
    "> Note: for notebook i use a built in magic function"
   ]
  },
  {
   "cell_type": "code",
   "execution_count": null,
   "metadata": {},
   "outputs": [],
   "source": [
    "%run ./testing/tests/example_tests.py"
   ]
  },
  {
   "attachments": {},
   "cell_type": "markdown",
   "metadata": {},
   "source": [
    "## Code coverage\n",
    "\n",
    "Generating coverage reports in python is easy.\n",
    "\n",
    "Two main packages:\n",
    "* coverage [https://pypi.org/project/coverage/](https://pypi.org/project/coverage/)\n",
    "* pytest-cov ([https://pypi.org/project/pytest-cov/](https://pypi.org/project/pytest-cov/) a plugin for pytest)"
   ]
  },
  {
   "cell_type": "code",
   "execution_count": null,
   "metadata": {},
   "outputs": [],
   "source": [
    "%%capture\n",
    "%pip install coverage"
   ]
  },
  {
   "cell_type": "code",
   "execution_count": null,
   "metadata": {},
   "outputs": [],
   "source": [
    "!coverage run -m testing.tests.example_tests"
   ]
  },
  {
   "cell_type": "code",
   "execution_count": null,
   "metadata": {},
   "outputs": [],
   "source": [
    "!coverage report -m"
   ]
  }
 ],
 "metadata": {
  "kernelspec": {
   "display_name": "venv",
   "language": "python",
   "name": "python3"
  },
  "language_info": {
   "codemirror_mode": {
    "name": "ipython",
    "version": 3
   },
   "file_extension": ".py",
   "mimetype": "text/x-python",
   "name": "python",
   "nbconvert_exporter": "python",
   "pygments_lexer": "ipython3",
   "version": "3.9.6"
  },
  "orig_nbformat": 4,
  "vscode": {
   "interpreter": {
    "hash": "35e50a75acf12e54d10fc4ec181faf7e3047482c971076bcb746266dcf5f0b2d"
   }
  }
 },
 "nbformat": 4,
 "nbformat_minor": 2
}
